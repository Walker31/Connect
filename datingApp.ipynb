{
  "nbformat": 4,
  "nbformat_minor": 0,
  "metadata": {
    "colab": {
      "provenance": [],
      "authorship_tag": "ABX9TyOuB88ariL0/9EYVbdagBJa",
      "include_colab_link": true
    },
    "kernelspec": {
      "name": "python3",
      "display_name": "Python 3"
    },
    "language_info": {
      "name": "python"
    }
  },
  "cells": [
    {
      "cell_type": "markdown",
      "metadata": {
        "id": "view-in-github",
        "colab_type": "text"
      },
      "source": [
        "<a href=\"https://colab.research.google.com/github/Walker31/Connect/blob/main/datingApp.ipynb\" target=\"_parent\"><img src=\"https://colab.research.google.com/assets/colab-badge.svg\" alt=\"Open In Colab\"/></a>"
      ]
    },
    {
      "cell_type": "code",
      "execution_count": 1,
      "metadata": {
        "colab": {
          "base_uri": "https://localhost:8080/",
          "height": 108
        },
        "id": "IUfhEydfi-wx",
        "outputId": "d4cd8b74-74ef-4b6f-b9e5-2e51d5391bb1"
      },
      "outputs": [
        {
          "output_type": "display_data",
          "data": {
            "text/plain": [
              "<IPython.core.display.HTML object>"
            ],
            "text/html": [
              "\n",
              "     <input type=\"file\" id=\"files-f83eb559-1f30-4b78-bbcb-2cb95fddfd76\" name=\"files[]\" multiple disabled\n",
              "        style=\"border:none\" />\n",
              "     <output id=\"result-f83eb559-1f30-4b78-bbcb-2cb95fddfd76\">\n",
              "      Upload widget is only available when the cell has been executed in the\n",
              "      current browser session. Please rerun this cell to enable.\n",
              "      </output>\n",
              "      <script>// Copyright 2017 Google LLC\n",
              "//\n",
              "// Licensed under the Apache License, Version 2.0 (the \"License\");\n",
              "// you may not use this file except in compliance with the License.\n",
              "// You may obtain a copy of the License at\n",
              "//\n",
              "//      http://www.apache.org/licenses/LICENSE-2.0\n",
              "//\n",
              "// Unless required by applicable law or agreed to in writing, software\n",
              "// distributed under the License is distributed on an \"AS IS\" BASIS,\n",
              "// WITHOUT WARRANTIES OR CONDITIONS OF ANY KIND, either express or implied.\n",
              "// See the License for the specific language governing permissions and\n",
              "// limitations under the License.\n",
              "\n",
              "/**\n",
              " * @fileoverview Helpers for google.colab Python module.\n",
              " */\n",
              "(function(scope) {\n",
              "function span(text, styleAttributes = {}) {\n",
              "  const element = document.createElement('span');\n",
              "  element.textContent = text;\n",
              "  for (const key of Object.keys(styleAttributes)) {\n",
              "    element.style[key] = styleAttributes[key];\n",
              "  }\n",
              "  return element;\n",
              "}\n",
              "\n",
              "// Max number of bytes which will be uploaded at a time.\n",
              "const MAX_PAYLOAD_SIZE = 100 * 1024;\n",
              "\n",
              "function _uploadFiles(inputId, outputId) {\n",
              "  const steps = uploadFilesStep(inputId, outputId);\n",
              "  const outputElement = document.getElementById(outputId);\n",
              "  // Cache steps on the outputElement to make it available for the next call\n",
              "  // to uploadFilesContinue from Python.\n",
              "  outputElement.steps = steps;\n",
              "\n",
              "  return _uploadFilesContinue(outputId);\n",
              "}\n",
              "\n",
              "// This is roughly an async generator (not supported in the browser yet),\n",
              "// where there are multiple asynchronous steps and the Python side is going\n",
              "// to poll for completion of each step.\n",
              "// This uses a Promise to block the python side on completion of each step,\n",
              "// then passes the result of the previous step as the input to the next step.\n",
              "function _uploadFilesContinue(outputId) {\n",
              "  const outputElement = document.getElementById(outputId);\n",
              "  const steps = outputElement.steps;\n",
              "\n",
              "  const next = steps.next(outputElement.lastPromiseValue);\n",
              "  return Promise.resolve(next.value.promise).then((value) => {\n",
              "    // Cache the last promise value to make it available to the next\n",
              "    // step of the generator.\n",
              "    outputElement.lastPromiseValue = value;\n",
              "    return next.value.response;\n",
              "  });\n",
              "}\n",
              "\n",
              "/**\n",
              " * Generator function which is called between each async step of the upload\n",
              " * process.\n",
              " * @param {string} inputId Element ID of the input file picker element.\n",
              " * @param {string} outputId Element ID of the output display.\n",
              " * @return {!Iterable<!Object>} Iterable of next steps.\n",
              " */\n",
              "function* uploadFilesStep(inputId, outputId) {\n",
              "  const inputElement = document.getElementById(inputId);\n",
              "  inputElement.disabled = false;\n",
              "\n",
              "  const outputElement = document.getElementById(outputId);\n",
              "  outputElement.innerHTML = '';\n",
              "\n",
              "  const pickedPromise = new Promise((resolve) => {\n",
              "    inputElement.addEventListener('change', (e) => {\n",
              "      resolve(e.target.files);\n",
              "    });\n",
              "  });\n",
              "\n",
              "  const cancel = document.createElement('button');\n",
              "  inputElement.parentElement.appendChild(cancel);\n",
              "  cancel.textContent = 'Cancel upload';\n",
              "  const cancelPromise = new Promise((resolve) => {\n",
              "    cancel.onclick = () => {\n",
              "      resolve(null);\n",
              "    };\n",
              "  });\n",
              "\n",
              "  // Wait for the user to pick the files.\n",
              "  const files = yield {\n",
              "    promise: Promise.race([pickedPromise, cancelPromise]),\n",
              "    response: {\n",
              "      action: 'starting',\n",
              "    }\n",
              "  };\n",
              "\n",
              "  cancel.remove();\n",
              "\n",
              "  // Disable the input element since further picks are not allowed.\n",
              "  inputElement.disabled = true;\n",
              "\n",
              "  if (!files) {\n",
              "    return {\n",
              "      response: {\n",
              "        action: 'complete',\n",
              "      }\n",
              "    };\n",
              "  }\n",
              "\n",
              "  for (const file of files) {\n",
              "    const li = document.createElement('li');\n",
              "    li.append(span(file.name, {fontWeight: 'bold'}));\n",
              "    li.append(span(\n",
              "        `(${file.type || 'n/a'}) - ${file.size} bytes, ` +\n",
              "        `last modified: ${\n",
              "            file.lastModifiedDate ? file.lastModifiedDate.toLocaleDateString() :\n",
              "                                    'n/a'} - `));\n",
              "    const percent = span('0% done');\n",
              "    li.appendChild(percent);\n",
              "\n",
              "    outputElement.appendChild(li);\n",
              "\n",
              "    const fileDataPromise = new Promise((resolve) => {\n",
              "      const reader = new FileReader();\n",
              "      reader.onload = (e) => {\n",
              "        resolve(e.target.result);\n",
              "      };\n",
              "      reader.readAsArrayBuffer(file);\n",
              "    });\n",
              "    // Wait for the data to be ready.\n",
              "    let fileData = yield {\n",
              "      promise: fileDataPromise,\n",
              "      response: {\n",
              "        action: 'continue',\n",
              "      }\n",
              "    };\n",
              "\n",
              "    // Use a chunked sending to avoid message size limits. See b/62115660.\n",
              "    let position = 0;\n",
              "    do {\n",
              "      const length = Math.min(fileData.byteLength - position, MAX_PAYLOAD_SIZE);\n",
              "      const chunk = new Uint8Array(fileData, position, length);\n",
              "      position += length;\n",
              "\n",
              "      const base64 = btoa(String.fromCharCode.apply(null, chunk));\n",
              "      yield {\n",
              "        response: {\n",
              "          action: 'append',\n",
              "          file: file.name,\n",
              "          data: base64,\n",
              "        },\n",
              "      };\n",
              "\n",
              "      let percentDone = fileData.byteLength === 0 ?\n",
              "          100 :\n",
              "          Math.round((position / fileData.byteLength) * 100);\n",
              "      percent.textContent = `${percentDone}% done`;\n",
              "\n",
              "    } while (position < fileData.byteLength);\n",
              "  }\n",
              "\n",
              "  // All done.\n",
              "  yield {\n",
              "    response: {\n",
              "      action: 'complete',\n",
              "    }\n",
              "  };\n",
              "}\n",
              "\n",
              "scope.google = scope.google || {};\n",
              "scope.google.colab = scope.google.colab || {};\n",
              "scope.google.colab._files = {\n",
              "  _uploadFiles,\n",
              "  _uploadFilesContinue,\n",
              "};\n",
              "})(self);\n",
              "</script> "
            ]
          },
          "metadata": {}
        },
        {
          "output_type": "stream",
          "name": "stdout",
          "text": [
            "Saving users.csv to users.csv\n",
            "Saving interactions.csv to interactions.csv\n"
          ]
        }
      ],
      "source": [
        "from google.colab import files\n",
        "\n",
        "uploaded = files.upload()\n"
      ]
    },
    {
      "cell_type": "code",
      "source": [
        "import pandas as pd\n",
        "\n",
        "users_df = pd.read_csv('users.csv')\n",
        "interactions_df = pd.read_csv('interactions.csv')\n",
        "print('Users Table:')\n",
        "print(users_df.head())\n",
        "print('\\nInteractions Table:')\n",
        "print(interactions_df.head())"
      ],
      "metadata": {
        "colab": {
          "base_uri": "https://localhost:8080/"
        },
        "id": "RA2D1knBjRIe",
        "outputId": "90758b4b-6e51-4204-b171-1e1a904c2f86"
      },
      "execution_count": 3,
      "outputs": [
        {
          "output_type": "stream",
          "name": "stdout",
          "text": [
            "Users Table:\n",
            "   user_id  age  gender  location                         interests  \\\n",
            "0        1   56    Male   Chicago      Photography, Cooking, Gaming   \n",
            "1        2   46    Male   Phoenix      Reading, Movies, Sports, Art   \n",
            "2        3   32  Female  New York  Fitness, Gaming, Cooking, Travel   \n",
            "3        4   60    Male   Phoenix     Fitness, Art, Reading, Hiking   \n",
            "4        5   25  Female   Phoenix      Photography, Sports, Reading   \n",
            "\n",
            "  preferred_gender  preferred_age_min  preferred_age_max  \n",
            "0           Female                 19                 24  \n",
            "1             Male                 22                 29  \n",
            "2              Any                 21                 36  \n",
            "3             Male                 29                 39  \n",
            "4              Any                 24                 31  \n",
            "\n",
            "Interactions Table:\n",
            "   user_id  other_user_id interaction   timestamp\n",
            "0      328             58     dislike  2025-05-18\n",
            "1       13            380        like  2025-01-11\n",
            "2      141            126        like  2025-02-08\n",
            "3      115             72        like  2025-02-25\n",
            "4      378             53        like  2025-02-25\n"
          ]
        }
      ]
    },
    {
      "cell_type": "code",
      "source": [
        "from scipy.sparse import csr_matrix\n",
        "\n",
        "interactions_df['score'] = (interactions_df['interaction']=='like').astype(int)\n",
        "\n",
        "pivot = interactions_df.pivot_table(\n",
        "    index = 'user_id',\n",
        "    columns = 'other_user_id',\n",
        "    values = 'score',\n",
        "    fill_value=0\n",
        ")\n",
        "\n",
        "user_ids = pivot.index.to_list()\n",
        "item_ids = pivot.columns.to_list()\n",
        "user_item_sparse = csr_matrix(pivot.values)\n",
        "\n",
        "print(\"User-Item matrix shape: \", user_item_sparse.shape)\n",
        "\n"
      ],
      "metadata": {
        "colab": {
          "base_uri": "https://localhost:8080/"
        },
        "id": "XlSpWKN8j32T",
        "outputId": "2ea91339-4530-4684-f461-854eb368787e"
      },
      "execution_count": 4,
      "outputs": [
        {
          "output_type": "stream",
          "name": "stdout",
          "text": [
            "User-Item matrix shape:  (500, 500)\n"
          ]
        }
      ]
    },
    {
      "cell_type": "code",
      "source": [
        "pivot.shape == (500,500)"
      ],
      "metadata": {
        "colab": {
          "base_uri": "https://localhost:8080/"
        },
        "id": "9BfuOn3Um_3d",
        "outputId": "3aff77e3-4bdf-49b1-866a-4c092d067f19"
      },
      "execution_count": 6,
      "outputs": [
        {
          "output_type": "execute_result",
          "data": {
            "text/plain": [
              "True"
            ]
          },
          "metadata": {},
          "execution_count": 6
        }
      ]
    },
    {
      "cell_type": "code",
      "source": [
        "from sklearn.feature_extraction.text import CountVectorizer\n",
        "from sklearn.preprocessing import OneHotEncoder, MinMaxScaler\n",
        "import scipy.sparse as sp\n",
        "\n",
        "df = users_df.copy()\n",
        "vectorizer = CountVectorizer(token_pattern = r\"(?u)\\b\\w+\\b\", lowercase = True)\n",
        "interest_matrix = vectorizer.fit_transform(df['interests'])\n",
        "\n",
        "print(\"Interest-term vocabulary: \", vectorizer.get_feature_names_out())\n",
        "print(\"Interest-term matrix: \\n\", interest_matrix.shape)\n",
        "\n",
        "ohe = OneHotEncoder(sparse_output = True, drop = None)\n",
        "cat_features = ohe.fit_transform(df[['gender','location','preferred_gender']])\n",
        "\n",
        "print('One-hot cat matrix shape:' , cat_features.shape)\n",
        "\n",
        "scaler = MinMaxScaler()\n",
        "age_cols = scaler.fit_transform(df[['age', 'preferred_age_min', 'preferred_age_max']])\n",
        "\n",
        "age_sparse = sp.csr_matrix(age_cols)\n",
        "\n",
        "user_profile_features = sp.hstack([ interest_matrix, cat_features, age_sparse],format = 'csr')\n",
        "print(\"Final profile shape(users x features): \", user_profile_features.shape)"
      ],
      "metadata": {
        "colab": {
          "base_uri": "https://localhost:8080/"
        },
        "id": "Zo-w174JnBO2",
        "outputId": "38e004ce-eeb5-4851-e529-b0475bed3cc4"
      },
      "execution_count": 9,
      "outputs": [
        {
          "output_type": "stream",
          "name": "stdout",
          "text": [
            "Interest-term vocabulary:  ['art' 'cooking' 'dancing' 'fitness' 'gaming' 'hiking' 'movies' 'music'\n",
            " 'photography' 'reading' 'sports' 'travel']\n",
            "Interest-term matrix: \n",
            " (500, 12)\n",
            "One-hot cat matrix shape: (500, 12)\n",
            "Final profile shape(users x features):  (500, 27)\n"
          ]
        }
      ]
    },
    {
      "cell_type": "code",
      "source": [
        "import numpy as np\n",
        "from sklearn.metrics.pairwise import cosine_similarity\n",
        "\n",
        "sim_cf = cosine_similarity(user_item_sparse)\n",
        "print(\"CF similarity matrix shape:\", sim_cf.shape)\n",
        "\n",
        "np.fill_diagonal(sim_cf, 0.0)"
      ],
      "metadata": {
        "colab": {
          "base_uri": "https://localhost:8080/"
        },
        "id": "JehauEygpjim",
        "outputId": "16728377-67e7-48e1-f4ce-653d7d49a99f"
      },
      "execution_count": 13,
      "outputs": [
        {
          "output_type": "stream",
          "name": "stdout",
          "text": [
            "CF similarity matrix shape: (500, 500)\n"
          ]
        }
      ]
    },
    {
      "cell_type": "code",
      "source": [
        "\n",
        "sim_cb = cosine_similarity(user_profile_features)\n",
        "print(\"Content-based similarity matrix shape:\", sim_cb.shape)\n",
        "\n",
        "np.fill_diagonal(sim_cb, 0.0)\n",
        ""
      ],
      "metadata": {
        "colab": {
          "base_uri": "https://localhost:8080/"
        },
        "id": "ORWmTctMuPso",
        "outputId": "46c72144-91da-4633-ce62-c7c9653d0325"
      },
      "execution_count": 14,
      "outputs": [
        {
          "output_type": "stream",
          "name": "stdout",
          "text": [
            "Content-based similarity matrix shape: (500, 500)\n"
          ]
        }
      ]
    },
    {
      "cell_type": "code",
      "source": [
        "alpha = 0.5\n",
        "sim_hybrid = alpha * sim_cf + (1-alpha) * sim_cb\n",
        "print(\"Hybrid similarity matrix shape:\", sim_hybrid.shape)"
      ],
      "metadata": {
        "colab": {
          "base_uri": "https://localhost:8080/"
        },
        "id": "j2-qfqJQvGQd",
        "outputId": "167726c6-35a3-425a-d7e6-12ce8b900117"
      },
      "execution_count": 16,
      "outputs": [
        {
          "output_type": "stream",
          "name": "stdout",
          "text": [
            "Hybrid similarity matrix shape: (500, 500)\n"
          ]
        }
      ]
    },
    {
      "cell_type": "code",
      "source": [
        "user_ids = users_df['user_id'].to_list()\n",
        "id_to_idx = {uid: idx for idx, uid in enumerate(user_ids)}\n",
        "idx_to_id = {idx: uid for uid,idx in id_to_idx.items()}\n",
        "\n",
        "from collections import defaultdict\n",
        "\n",
        "already_seen = defaultdict(set)\n",
        "for row in interactions_df.itertuples():\n",
        "  u = row.user_id\n",
        "  v = row.other_user_id\n",
        "  already_seen[u].add(v)\n",
        "\n",
        "demo_df = users_df.set_index('user_id')"
      ],
      "metadata": {
        "id": "DVE7gUgNvOlp"
      },
      "execution_count": 20,
      "outputs": []
    },
    {
      "cell_type": "code",
      "source": [
        "def is_compatible(u_id, v_id, demo_df):\n",
        "    u = demo_df.loc[u_id]\n",
        "    v = demo_df.loc[v_id]\n",
        "\n",
        "    if u['preferred_gender'] != 'Any' and v['gender'] != u['preferred_gender']:\n",
        "        return False\n",
        "\n",
        "    if v['preferred_gender'] != 'Any' and u['gender'] != v['preferred_gender']:\n",
        "        return False\n",
        "\n",
        "    if not (u['preferred_age_min'] <= v['age'] <= u['preferred_age_max']):\n",
        "        return False\n",
        "\n",
        "    if not (v['preferred_age_min'] <= u['age'] <= v['preferred_age_max']):\n",
        "        return False\n",
        "\n",
        "    return True\n"
      ],
      "metadata": {
        "id": "wobKPlycw4Rr"
      },
      "execution_count": 21,
      "outputs": []
    },
    {
      "cell_type": "code",
      "source": [
        "import numpy as np\n",
        "\n",
        "def recommend_for_user(u_id, sim_matrix, users_df, interactions_df, N=10, alpha=0.5):\n",
        "\n",
        "    all_user_ids = users_df['user_id'].tolist()\n",
        "    u_idx = id_to_idx[u_id]\n",
        "\n",
        "\n",
        "    candidates = []\n",
        "    for v_id in all_user_ids:\n",
        "        if v_id == u_id:\n",
        "            continue\n",
        "\n",
        "        if v_id in already_seen[u_id]:\n",
        "            continue\n",
        "        if not is_compatible(u_id, v_id, demo_df):\n",
        "            continue\n",
        "        candidates.append(v_id)\n",
        "\n",
        "\n",
        "    scores = []\n",
        "    for v_id in candidates:\n",
        "        v_idx = id_to_idx[v_id]\n",
        "        score = sim_matrix[u_idx, v_idx]\n",
        "        scores.append((v_id, score))\n",
        "\n",
        "\n",
        "    scores_sorted = sorted(scores, key=lambda x: x[1], reverse=True)\n",
        "\n",
        "\n",
        "    topN = [v for v, s in scores_sorted[:N]]\n",
        "    return topN\n",
        "\n",
        "top_10_for_user_5 = recommend_for_user(\n",
        "    u_id=5,\n",
        "    sim_matrix=sim_hybrid,\n",
        "    users_df=users_df,\n",
        "    interactions_df=interactions_df,\n",
        "    N=10\n",
        ")\n",
        "print(\"Top 10 recommendations for user 1:\", top_10_for_user_5)\n",
        "\n"
      ],
      "metadata": {
        "colab": {
          "base_uri": "https://localhost:8080/"
        },
        "id": "levtgG5szQig",
        "outputId": "b4148997-42c3-4ed8-bed8-9632ced5bddb"
      },
      "execution_count": 29,
      "outputs": [
        {
          "output_type": "stream",
          "name": "stdout",
          "text": [
            "Top 10 recommendations for user 1: [10, 191, 46, 148, 400, 26, 106, 395, 288, 320]\n"
          ]
        }
      ]
    }
  ]
}